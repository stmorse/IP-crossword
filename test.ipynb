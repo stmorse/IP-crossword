{
 "cells": [
  {
   "cell_type": "code",
   "execution_count": 1,
   "metadata": {
    "collapsed": true
   },
   "outputs": [],
   "source": [
    "from ipxword import Grid, IPXWordGenerator"
   ]
  },
  {
   "cell_type": "code",
   "execution_count": 6,
   "metadata": {
    "collapsed": false
   },
   "outputs": [
    {
     "name": "stdout",
     "output_type": "stream",
     "text": [
      "GRID:\n",
      "# # - - - \n",
      "# - - - - \n",
      "- - # - - \n",
      "- - - - # \n",
      "- - - # # \n",
      "\n",
      "Number slots: 12\n",
      "Different word lengths possible: {2, 3, 4}\n",
      "Dictionary size after sampling: 3000\n",
      "(Using random word values.)\n",
      "\n",
      "Building...\n",
      "Puzzle status: Optimal\n",
      "\n",
      "Total words: 12\n",
      "Assignments: (index, (slot), word)\n",
      "(25, (0, 'down'), 'hap')\n",
      "(614, (4, 'down'), 'anoa')\n",
      "(782, (4, 'across'), 'aria')\n",
      "(815, (3, 'across'), 'oe')\n",
      "(857, (0, 'across'), 'haw')\n",
      "(1743, (2, 'across'), 'he')\n",
      "(1774, (5, 'down'), 'woe')\n",
      "(2226, (5, 'across'), 'pat')\n",
      "(2288, (1, 'down'), 'vera')\n",
      "(2393, (3, 'down'), 'it')\n",
      "(2648, (2, 'down'), 'hi')\n",
      "(2975, (1, 'across'), 'vino')\n"
     ]
    }
   ],
   "source": [
    "G = Grid(5, blacksq=[(0,0), (0,1), (1,0), (4,4), (4,3), (3,4), (2,2)])\n",
    "ipx = IPXWordGenerator(G, numk=3000)\n",
    "ipx.build()\n",
    "ipx.get_puzzle()"
   ]
  },
  {
   "cell_type": "markdown",
   "metadata": {},
   "source": [
    "<hr>"
   ]
  },
  {
   "cell_type": "markdown",
   "metadata": {},
   "source": [
    "Output:\n",
    "```\n",
    "# E H\n",
    "B A Y\n",
    "Y U P\n",
    "```"
   ]
  },
  {
   "cell_type": "markdown",
   "metadata": {},
   "source": [
    "Output:\n",
    "```\n",
    "# T A B\n",
    "F U R Y\n",
    "E B B S\n",
    "E S S #\n",
    "```"
   ]
  },
  {
   "cell_type": "markdown",
   "metadata": {
    "collapsed": true
   },
   "source": [
    "Output:\n",
    "```\n",
    "# # H A W\n",
    "# V I N O\n",
    "H E # O E\n",
    "A R I A #\n",
    "P A T # #\n",
    "```"
   ]
  },
  {
   "cell_type": "code",
   "execution_count": null,
   "metadata": {
    "collapsed": true
   },
   "outputs": [],
   "source": []
  }
 ],
 "metadata": {
  "kernelspec": {
   "display_name": "Python 3",
   "language": "python",
   "name": "python3"
  },
  "language_info": {
   "codemirror_mode": {
    "name": "ipython",
    "version": 3
   },
   "file_extension": ".py",
   "mimetype": "text/x-python",
   "name": "python",
   "nbconvert_exporter": "python",
   "pygments_lexer": "ipython3",
   "version": "3.5.2"
  }
 },
 "nbformat": 4,
 "nbformat_minor": 0
}
