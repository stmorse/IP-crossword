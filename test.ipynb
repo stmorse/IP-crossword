{
 "cells": [
  {
   "cell_type": "code",
   "execution_count": 1,
   "metadata": {
    "collapsed": true
   },
   "outputs": [],
   "source": [
    "from ipxword import Grid, IPXWordGenerator"
   ]
  },
  {
   "cell_type": "code",
   "execution_count": 2,
   "metadata": {
    "collapsed": false
   },
   "outputs": [
    {
     "name": "stdout",
     "output_type": "stream",
     "text": [
      "GRID:\n",
      "# - - \n",
      "- - - \n",
      "- - - \n",
      "\n",
      "Number slots: 6\n",
      "Different word lengths possible: {2, 3}\n",
      "Dictionary size after sampling: 500\n",
      "(Using random word values.)\n",
      "\n",
      "Building...\n",
      "Puzzle status: Optimal\n",
      "\n",
      "Total words: 6\n",
      "Assignments: (index, (slot), word)\n",
      "(64, (1, 'down'), 'eau')\n",
      "(165, (2, 'down'), 'hyp')\n",
      "(258, (0, 'down'), 'by')\n",
      "(279, (2, 'across'), 'yup')\n",
      "(327, (0, 'across'), 'eh')\n",
      "(473, (1, 'across'), 'bay')\n"
     ]
    }
   ],
   "source": [
    "G = Grid(3, blacksq=[(0,0)])\n",
    "ipx = IPXWordGenerator(G, numk=500)\n",
    "ipx.build()\n",
    "ipx.get_puzzle()"
   ]
  },
  {
   "cell_type": "markdown",
   "metadata": {},
   "source": [
    "<hr>"
   ]
  },
  {
   "cell_type": "markdown",
   "metadata": {},
   "source": [
    "Output:\n",
    "```\n",
    "# E H\n",
    "B A Y\n",
    "Y U P\n",
    "```"
   ]
  },
  {
   "cell_type": "code",
   "execution_count": null,
   "metadata": {
    "collapsed": true
   },
   "outputs": [],
   "source": []
  }
 ],
 "metadata": {
  "kernelspec": {
   "display_name": "Python 3",
   "language": "python",
   "name": "python3"
  },
  "language_info": {
   "codemirror_mode": {
    "name": "ipython",
    "version": 3
   },
   "file_extension": ".py",
   "mimetype": "text/x-python",
   "name": "python",
   "nbconvert_exporter": "python",
   "pygments_lexer": "ipython3",
   "version": "3.5.2"
  }
 },
 "nbformat": 4,
 "nbformat_minor": 0
}
