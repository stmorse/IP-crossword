{
 "cells": [
  {
   "cell_type": "code",
   "execution_count": 1,
   "metadata": {
    "collapsed": true
   },
   "outputs": [],
   "source": [
    "from pulp import *\n",
    "import random"
   ]
  },
  {
   "cell_type": "code",
   "execution_count": 2,
   "metadata": {
    "collapsed": true
   },
   "outputs": [],
   "source": [
    "class Grid:\n",
    "    def __init__(self, N, blacksq=[]):\n",
    "        self.N = N\n",
    "        self.grid = [['-' for _ in range(N)] for _ in range(N)]\n",
    "        for b in blacksq:\n",
    "            if type(b) != tuple: \n",
    "                raise TypeError \n",
    "                break\n",
    "            self.grid[b[0]][b[1]] = '#'\n",
    "        \n",
    "        # slot handling  *HACKY*\n",
    "        self.positions = {'across': {}, 'down': {}}    # cell->position w/in word\n",
    "        self.slots     = {'across': {}, 'down': {}}    # cell->slot e.g. (2, across)  \n",
    "        self.sizes     = {'across': {}, 'down': {}}    # cell->slot size\n",
    "        self.allslots  = []     # list of all slots\n",
    "        cgrid = [[c for c in self.grid[i]] for i in range(len(self.grid))]\n",
    "        for d in ['across','down']:\n",
    "            sx = 0\n",
    "            for i, row in enumerate(cgrid):\n",
    "                line = ''.join(row)\n",
    "                blocks = line.split('#')\n",
    "                jcounter = 0\n",
    "                for b in blocks:\n",
    "                    if len(b) == 0:\n",
    "                        jcounter += 1\n",
    "                        continue\n",
    "                    elif len(b) == 1:\n",
    "                        jcounter += 2\n",
    "                        continue\n",
    "                    for bcounter in range(len(b)):\n",
    "                        cell = (i,jcounter) if d=='across' else (jcounter,i)\n",
    "                        self.positions[d][cell] = bcounter\n",
    "                        self.slots[d][cell] = (sx,d)\n",
    "                        self.sizes[d][cell] = len(b)\n",
    "                        jcounter += 1\n",
    "                    self.allslots.append((sx,d))\n",
    "                    sx += 1\n",
    "                    jcounter += 1\n",
    "            cgrid = map(list, zip(*cgrid))   # transpose grid\n",
    "        self.sizebyslot = {d: {self.slots[d][cell][0]: self.sizes[d][cell] for cell in self.slots[d]} \\\n",
    "                           for d in self.slots}\n",
    "            \n",
    "    def getPositionAt(self, cell, d):\n",
    "        return self.positions[d][cell] if cell in self.positions[d] else None\n",
    "    \n",
    "    def getSlotAt(self, cell, d):\n",
    "        return self.slots[d][cell] if cell in self.slots[d] else None\n",
    "    \n",
    "    def getSizeAt(self, cell, d):\n",
    "        return self.sizes[d][cell] if cell in self.sizes[d] else None\n",
    "    \n",
    "    def getAllSlots(self):\n",
    "        return self.allslots\n",
    "    \n",
    "    def getSlotSize(self, slot):\n",
    "        return self.sizebyslot[slot[1]][slot[0]]\n",
    "    \n",
    "    def iterCells(self):\n",
    "        for i in range(N):\n",
    "            for j in range(N):\n",
    "                if self.grid[i][j] != '#':\n",
    "                    yield (i,j)\n",
    "    \n",
    "    def __repr__(self):\n",
    "        str = ''\n",
    "        for r in self.grid:\n",
    "            for c in r:\n",
    "                str += c + ' '\n",
    "            str += '\\n'\n",
    "        return str"
   ]
  },
  {
   "cell_type": "code",
   "execution_count": 3,
   "metadata": {
    "collapsed": false
   },
   "outputs": [
    {
     "name": "stdout",
     "output_type": "stream",
     "text": [
      "Number slots: 6\n",
      "# - - \n",
      "- - - \n",
      "- - - \n",
      "\n",
      "Different word lengths: {2, 3}\n",
      "Number words: 500\n"
     ]
    }
   ],
   "source": [
    "N = 3         # dimension of puzzle\n",
    "numk = 500    # number of words\n",
    "\n",
    "G = Grid(N, blacksq=[(0,0)])\n",
    "slots = G.getAllSlots()\n",
    "nums = len(slots)\n",
    "\n",
    "print('Number slots: %d' % nums)\n",
    "print(G)\n",
    "\n",
    "# load dictionary of words as set\n",
    "allwords0 = []\n",
    "with open('ospd.txt', 'r') as f:\n",
    "    allwords0 = [w.strip() for w in f.readlines()]\n",
    "psz = set([G.getSlotSize(s) for s in G.getAllSlots()])\n",
    "print('Different word lengths:', psz)\n",
    "allwords = []\n",
    "for size in psz:\n",
    "    allwords.extend([w for w in allwords0 if len(w)==size])\n",
    "\n",
    "allwords = random.sample(allwords, numk)\n",
    "\n",
    "# allcosts = {w: random.randint(0,100) for w in allwords}\n",
    "allcosts = [random.randint(0,100) for w in allwords]\n",
    "\n",
    "print('Number words: %d' % len(allwords))"
   ]
  },
  {
   "cell_type": "code",
   "execution_count": 4,
   "metadata": {
    "collapsed": false
   },
   "outputs": [],
   "source": [
    "allposs = {}\n",
    "for i in range(N):   # row\n",
    "    for j in range(N):   # col\n",
    "        c = (i,j)\n",
    "        allposs[c] = {}\n",
    "        pos = {d: G.getPositionAt(c,d) for d in ['across', 'down']}\n",
    "        for let in 'abcdefghijklmnopqrstuvwxyz':\n",
    "            allposs[c][let] = {}\n",
    "            for d in ['across', 'down']:\n",
    "                allposs[c][let][d] = \\\n",
    "                    set([(k,w) for k,w in enumerate(allwords) \\\n",
    "                         if  len(w) == G.getSizeAt(c, d) \\\n",
    "                         and w[pos[d]] == let])"
   ]
  },
  {
   "cell_type": "code",
   "execution_count": 5,
   "metadata": {
    "collapsed": false
   },
   "outputs": [
    {
     "name": "stdout",
     "output_type": "stream",
     "text": [
      "Optimal\n"
     ]
    }
   ],
   "source": [
    "prob = LpProblem(\"puzzle\", LpMaximize)\n",
    "\n",
    "poss_combos = [(w, s) for w in range(len(allwords)) for s in slots]\n",
    "zvars = LpVariable.dicts('zvars', poss_combos, 0, 1, LpBinary) \n",
    "\n",
    "# Constr (1) : every word appears once or not at all (numk constraints)\n",
    "for k in range(numk):\n",
    "    prob += lpSum(zvars[(k,s)] for s in slots) <= 1\n",
    "    \n",
    "# Constr (2) : all slots assigned to exactly one word (nums constraints)\n",
    "for s in slots:\n",
    "    prob += lpSum(zvars[(k,s)] for k in range(numk)) == 1\n",
    "    \n",
    "# Constr (2a) : slots must contain a feasible word\n",
    "for s in slots:\n",
    "    ssize = G.getSlotSize(s)\n",
    "    for k in range(numk):\n",
    "        if len(allwords[k]) != ssize:\n",
    "            prob += zvars[(k,s)] == 0\n",
    "    \n",
    "# Constr (3) : in every cell, zvars must match\n",
    "for i in range(N):\n",
    "    for j in range(N):\n",
    "        c = (i,j)\n",
    "        slota = G.getSlotAt(c, 'across')\n",
    "        slotd = G.getSlotAt(c, 'down')\n",
    "        for let in 'abcdefghijklmnopqrstuvwxyz':\n",
    "            rowx = [rt[0] for rt in allposs[c][let]['across']]\n",
    "            colx = [ct[0] for ct in allposs[c][let]['down']]\n",
    "            \n",
    "            if len(rowx)==0 or len(colx)==0:\n",
    "                for k in rowx:\n",
    "                    prob += zvars[(k,slota)] == 0\n",
    "                for k in colx:\n",
    "                    prob += zvars[(k,slotd)] == 0\n",
    "                continue\n",
    "                \n",
    "            prob += lpSum(zvars[(k1,slota)] for k1 in rowx) == \\\n",
    "                    lpSum(zvars[(k2,slotd)] for k2 in colx)\n",
    "                \n",
    "# Objective : random costs for now\n",
    "prob += lpSum(allcosts[k] * zvars[(k,s)] for k in range(numk) for s in slots)\n",
    "\n",
    "status = prob.solve()\n",
    "\n",
    "print(LpStatus[status])"
   ]
  },
  {
   "cell_type": "code",
   "execution_count": 6,
   "metadata": {
    "collapsed": false
   },
   "outputs": [
    {
     "name": "stdout",
     "output_type": "stream",
     "text": [
      "6\n"
     ]
    }
   ],
   "source": [
    "count = 0\n",
    "finalw = []\n",
    "for k in range(numk):\n",
    "    for s in slots:\n",
    "        if value(zvars[(k,s)]) > 0:\n",
    "            count += 1\n",
    "            finalw.append((k, s, allwords[k]))\n",
    "print(count)"
   ]
  },
  {
   "cell_type": "code",
   "execution_count": 7,
   "metadata": {
    "collapsed": false
   },
   "outputs": [
    {
     "name": "stdout",
     "output_type": "stream",
     "text": [
      "(125, (2, 'across'), 'als')\n",
      "(148, (2, 'down'), 'ors')\n",
      "(266, (0, 'across'), 'do')\n",
      "(381, (1, 'across'), 'dor')\n",
      "(402, (1, 'down'), 'dol')\n",
      "(435, (0, 'down'), 'da')\n"
     ]
    }
   ],
   "source": [
    "for l in finalw:\n",
    "    print(l)"
   ]
  },
  {
   "cell_type": "code",
   "execution_count": null,
   "metadata": {
    "collapsed": true
   },
   "outputs": [],
   "source": [
    "# # d o\n",
    "# d o r\n",
    "# a l s"
   ]
  }
 ],
 "metadata": {
  "kernelspec": {
   "display_name": "Python 3",
   "language": "python",
   "name": "python3"
  },
  "language_info": {
   "codemirror_mode": {
    "name": "ipython",
    "version": 3
   },
   "file_extension": ".py",
   "mimetype": "text/x-python",
   "name": "python",
   "nbconvert_exporter": "python",
   "pygments_lexer": "ipython3",
   "version": "3.5.2"
  }
 },
 "nbformat": 4,
 "nbformat_minor": 0
}
